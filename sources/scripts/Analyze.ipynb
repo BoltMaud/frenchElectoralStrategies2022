{
 "cells": [
  {
   "cell_type": "markdown",
   "id": "cab4e084",
   "metadata": {},
   "source": [
    "# Load data and check data"
   ]
  },
  {
   "cell_type": "code",
   "execution_count": 1,
   "id": "6b6517c7",
   "metadata": {},
   "outputs": [],
   "source": [
    "import pandas as pd"
   ]
  },
  {
   "cell_type": "code",
   "execution_count": 2,
   "id": "ebac933c",
   "metadata": {},
   "outputs": [
    {
     "data": {
      "text/html": [
       "<div>\n",
       "<style scoped>\n",
       "    .dataframe tbody tr th:only-of-type {\n",
       "        vertical-align: middle;\n",
       "    }\n",
       "\n",
       "    .dataframe tbody tr th {\n",
       "        vertical-align: top;\n",
       "    }\n",
       "\n",
       "    .dataframe thead th {\n",
       "        text-align: right;\n",
       "    }\n",
       "</style>\n",
       "<table border=\"1\" class=\"dataframe\">\n",
       "  <thead>\n",
       "    <tr style=\"text-align: right;\">\n",
       "      <th></th>\n",
       "      <th>id</th>\n",
       "      <th>text</th>\n",
       "      <th>retweet_count</th>\n",
       "      <th>favorite_count</th>\n",
       "      <th>created_at</th>\n",
       "    </tr>\n",
       "  </thead>\n",
       "  <tbody>\n",
       "    <tr>\n",
       "      <th>0</th>\n",
       "      <td>Nathalie Arthaud</td>\n",
       "      <td>#Ukraine Oui, le rejet de la guerre de Poutine...</td>\n",
       "      <td>27</td>\n",
       "      <td>94</td>\n",
       "      <td>2022-03-06 10:27:27+00:00</td>\n",
       "    </tr>\n",
       "    <tr>\n",
       "      <th>1</th>\n",
       "      <td>Nathalie Arthaud</td>\n",
       "      <td>#Athlètes et même #Chatsrusses bannis des comp...</td>\n",
       "      <td>100</td>\n",
       "      <td>370</td>\n",
       "      <td>2022-03-05 09:47:12+00:00</td>\n",
       "    </tr>\n",
       "    <tr>\n",
       "      <th>2</th>\n",
       "      <td>Nathalie Arthaud</td>\n",
       "      <td>Mercredi discours de #Macron président : avec ...</td>\n",
       "      <td>54</td>\n",
       "      <td>166</td>\n",
       "      <td>2022-03-04 09:10:03+00:00</td>\n",
       "    </tr>\n",
       "    <tr>\n",
       "      <th>3</th>\n",
       "      <td>Nathalie Arthaud</td>\n",
       "      <td>#GuerreUkraine À Paris, le gpe d'électronique ...</td>\n",
       "      <td>398</td>\n",
       "      <td>777</td>\n",
       "      <td>2022-03-02 08:14:04+00:00</td>\n",
       "    </tr>\n",
       "    <tr>\n",
       "      <th>4</th>\n",
       "      <td>Nathalie Arthaud</td>\n",
       "      <td>Cette semaine, je serai en déplacement pour di...</td>\n",
       "      <td>17</td>\n",
       "      <td>45</td>\n",
       "      <td>2022-03-01 16:00:02+00:00</td>\n",
       "    </tr>\n",
       "    <tr>\n",
       "      <th>...</th>\n",
       "      <td>...</td>\n",
       "      <td>...</td>\n",
       "      <td>...</td>\n",
       "      <td>...</td>\n",
       "      <td>...</td>\n",
       "    </tr>\n",
       "    <tr>\n",
       "      <th>7936</th>\n",
       "      <td>Éric Zemmour</td>\n",
       "      <td>Merci pour votre émotion, Madame.\\n#ZemmourTou...</td>\n",
       "      <td>1038</td>\n",
       "      <td>3676</td>\n",
       "      <td>2022-03-06 15:39:08+00:00</td>\n",
       "    </tr>\n",
       "    <tr>\n",
       "      <th>7937</th>\n",
       "      <td>Éric Zemmour</td>\n",
       "      <td>L’apéro, un art de vivre français ! 🇫🇷\\n#Zemmo...</td>\n",
       "      <td>806</td>\n",
       "      <td>3374</td>\n",
       "      <td>2022-03-06 15:30:20+00:00</td>\n",
       "    </tr>\n",
       "    <tr>\n",
       "      <th>7938</th>\n",
       "      <td>Éric Zemmour</td>\n",
       "      <td>Merci de cet accueil au marché du Mourillon à ...</td>\n",
       "      <td>919</td>\n",
       "      <td>3068</td>\n",
       "      <td>2022-03-06 13:58:33+00:00</td>\n",
       "    </tr>\n",
       "    <tr>\n",
       "      <th>7939</th>\n",
       "      <td>Éric Zemmour</td>\n",
       "      <td>Vive les motards !\\n#ZemmourToulon https://t.c...</td>\n",
       "      <td>875</td>\n",
       "      <td>3815</td>\n",
       "      <td>2022-03-06 13:26:20+00:00</td>\n",
       "    </tr>\n",
       "    <tr>\n",
       "      <th>7940</th>\n",
       "      <td>Éric Zemmour</td>\n",
       "      <td>Bien arrivé à Toulon !\\n#ZemmourToulon https:/...</td>\n",
       "      <td>1342</td>\n",
       "      <td>5187</td>\n",
       "      <td>2022-03-06 12:04:11+00:00</td>\n",
       "    </tr>\n",
       "  </tbody>\n",
       "</table>\n",
       "<p>7941 rows × 5 columns</p>\n",
       "</div>"
      ],
      "text/plain": [
       "                    id                                               text  \\\n",
       "0     Nathalie Arthaud  #Ukraine Oui, le rejet de la guerre de Poutine...   \n",
       "1     Nathalie Arthaud  #Athlètes et même #Chatsrusses bannis des comp...   \n",
       "2     Nathalie Arthaud  Mercredi discours de #Macron président : avec ...   \n",
       "3     Nathalie Arthaud  #GuerreUkraine À Paris, le gpe d'électronique ...   \n",
       "4     Nathalie Arthaud  Cette semaine, je serai en déplacement pour di...   \n",
       "...                ...                                                ...   \n",
       "7936      Éric Zemmour  Merci pour votre émotion, Madame.\\n#ZemmourTou...   \n",
       "7937      Éric Zemmour  L’apéro, un art de vivre français ! 🇫🇷\\n#Zemmo...   \n",
       "7938      Éric Zemmour  Merci de cet accueil au marché du Mourillon à ...   \n",
       "7939      Éric Zemmour  Vive les motards !\\n#ZemmourToulon https://t.c...   \n",
       "7940      Éric Zemmour  Bien arrivé à Toulon !\\n#ZemmourToulon https:/...   \n",
       "\n",
       "      retweet_count  favorite_count                 created_at  \n",
       "0                27              94  2022-03-06 10:27:27+00:00  \n",
       "1               100             370  2022-03-05 09:47:12+00:00  \n",
       "2                54             166  2022-03-04 09:10:03+00:00  \n",
       "3               398             777  2022-03-02 08:14:04+00:00  \n",
       "4                17              45  2022-03-01 16:00:02+00:00  \n",
       "...             ...             ...                        ...  \n",
       "7936           1038            3676  2022-03-06 15:39:08+00:00  \n",
       "7937            806            3374  2022-03-06 15:30:20+00:00  \n",
       "7938            919            3068  2022-03-06 13:58:33+00:00  \n",
       "7939            875            3815  2022-03-06 13:26:20+00:00  \n",
       "7940           1342            5187  2022-03-06 12:04:11+00:00  \n",
       "\n",
       "[7941 rows x 5 columns]"
      ]
     },
     "execution_count": 2,
     "metadata": {},
     "output_type": "execute_result"
    }
   ],
   "source": [
    "twitter = pd.read_csv(\"twitter.csv\", sep = \";\")"
   ]
  },
  {
   "cell_type": "code",
   "execution_count": 19,
   "id": "9a6df9db",
   "metadata": {},
   "outputs": [
    {
     "data": {
      "text/plain": [
       "False    7941\n",
       "dtype: int64"
      ]
     },
     "execution_count": 19,
     "metadata": {},
     "output_type": "execute_result"
    }
   ],
   "source": [
    "twitter.duplicated().value_counts()"
   ]
  },
  {
   "cell_type": "code",
   "execution_count": 22,
   "id": "31f52a4c",
   "metadata": {},
   "outputs": [
    {
     "name": "stdout",
     "output_type": "stream",
     "text": [
      "<class 'pandas.core.frame.DataFrame'>\n",
      "RangeIndex: 7941 entries, 0 to 7940\n",
      "Data columns (total 5 columns):\n",
      " #   Column          Non-Null Count  Dtype \n",
      "---  ------          --------------  ----- \n",
      " 0   id              7941 non-null   object\n",
      " 1   text            7941 non-null   object\n",
      " 2   retweet_count   7941 non-null   int64 \n",
      " 3   favorite_count  7941 non-null   int64 \n",
      " 4   created_at      7941 non-null   object\n",
      "dtypes: int64(2), object(3)\n",
      "memory usage: 310.3+ KB\n"
     ]
    }
   ],
   "source": [
    "twitter.info()"
   ]
  },
  {
   "cell_type": "code",
   "execution_count": 3,
   "id": "9f0c3d93",
   "metadata": {},
   "outputs": [
    {
     "data": {
      "text/html": [
       "<div>\n",
       "<style scoped>\n",
       "    .dataframe tbody tr th:only-of-type {\n",
       "        vertical-align: middle;\n",
       "    }\n",
       "\n",
       "    .dataframe tbody tr th {\n",
       "        vertical-align: top;\n",
       "    }\n",
       "\n",
       "    .dataframe thead th {\n",
       "        text-align: right;\n",
       "    }\n",
       "</style>\n",
       "<table border=\"1\" class=\"dataframe\">\n",
       "  <thead>\n",
       "    <tr style=\"text-align: right;\">\n",
       "      <th></th>\n",
       "      <th>id</th>\n",
       "      <th>description</th>\n",
       "      <th>like_count</th>\n",
       "      <th>comment_count</th>\n",
       "      <th>created_at</th>\n",
       "    </tr>\n",
       "  </thead>\n",
       "  <tbody>\n",
       "    <tr>\n",
       "      <th>0</th>\n",
       "      <td>Nathalie Arthaud</td>\n",
       "      <td>#Athlètes et même #Chatsrusses bannis des comp...</td>\n",
       "      <td>203</td>\n",
       "      <td>14</td>\n",
       "      <td>2022-03-05 12:33:26+00:00</td>\n",
       "    </tr>\n",
       "    <tr>\n",
       "      <th>1</th>\n",
       "      <td>Nathalie Arthaud</td>\n",
       "      <td>Interview à BFMTV jeudi 3 mars, retrouvez l'in...</td>\n",
       "      <td>154</td>\n",
       "      <td>16</td>\n",
       "      <td>2022-03-04 09:36:47+00:00</td>\n",
       "    </tr>\n",
       "    <tr>\n",
       "      <th>2</th>\n",
       "      <td>Nathalie Arthaud</td>\n",
       "      <td>Retrouvez l'intégralité de l'interview sur le ...</td>\n",
       "      <td>94</td>\n",
       "      <td>38</td>\n",
       "      <td>2022-03-03 15:03:22+00:00</td>\n",
       "    </tr>\n",
       "    <tr>\n",
       "      <th>3</th>\n",
       "      <td>Nathalie Arthaud</td>\n",
       "      <td>#GuerreUkraine À Paris, le gpe d'électronique ...</td>\n",
       "      <td>243</td>\n",
       "      <td>16</td>\n",
       "      <td>2022-03-02 09:14:58+00:00</td>\n",
       "    </tr>\n",
       "    <tr>\n",
       "      <th>4</th>\n",
       "      <td>Nathalie Arthaud</td>\n",
       "      <td>Interview sur la situation en #Ukraine #ukraine</td>\n",
       "      <td>106</td>\n",
       "      <td>8</td>\n",
       "      <td>2022-02-28 22:07:01+00:00</td>\n",
       "    </tr>\n",
       "    <tr>\n",
       "      <th>...</th>\n",
       "      <td>...</td>\n",
       "      <td>...</td>\n",
       "      <td>...</td>\n",
       "      <td>...</td>\n",
       "      <td>...</td>\n",
       "    </tr>\n",
       "    <tr>\n",
       "      <th>1149</th>\n",
       "      <td>Éric Zemmour</td>\n",
       "      <td>Bienvenue @marionmarechal_</td>\n",
       "      <td>22713</td>\n",
       "      <td>751</td>\n",
       "      <td>2022-03-06 20:33:39+00:00</td>\n",
       "    </tr>\n",
       "    <tr>\n",
       "      <th>1150</th>\n",
       "      <td>Éric Zemmour</td>\n",
       "      <td>Marion, tu es une Française libre, tu te bats ...</td>\n",
       "      <td>31438</td>\n",
       "      <td>770</td>\n",
       "      <td>2022-03-06 19:22:22+00:00</td>\n",
       "    </tr>\n",
       "    <tr>\n",
       "      <th>1151</th>\n",
       "      <td>Éric Zemmour</td>\n",
       "      <td>Merci aux commerçants qui font vivre nos march...</td>\n",
       "      <td>10289</td>\n",
       "      <td>117</td>\n",
       "      <td>2022-03-06 16:48:38+00:00</td>\n",
       "    </tr>\n",
       "    <tr>\n",
       "      <th>1152</th>\n",
       "      <td>Éric Zemmour</td>\n",
       "      <td>L’apéro, un art de vivre français ! 🇫🇷</td>\n",
       "      <td>10408</td>\n",
       "      <td>117</td>\n",
       "      <td>2022-03-06 16:46:57+00:00</td>\n",
       "    </tr>\n",
       "    <tr>\n",
       "      <th>1153</th>\n",
       "      <td>Éric Zemmour</td>\n",
       "      <td>Ce matin, au mémorial Notre-Dame-du-Cap-Falcon...</td>\n",
       "      <td>16411</td>\n",
       "      <td>281</td>\n",
       "      <td>2022-03-06 16:43:33+00:00</td>\n",
       "    </tr>\n",
       "  </tbody>\n",
       "</table>\n",
       "<p>1154 rows × 5 columns</p>\n",
       "</div>"
      ],
      "text/plain": [
       "                    id                                        description  \\\n",
       "0     Nathalie Arthaud  #Athlètes et même #Chatsrusses bannis des comp...   \n",
       "1     Nathalie Arthaud  Interview à BFMTV jeudi 3 mars, retrouvez l'in...   \n",
       "2     Nathalie Arthaud  Retrouvez l'intégralité de l'interview sur le ...   \n",
       "3     Nathalie Arthaud  #GuerreUkraine À Paris, le gpe d'électronique ...   \n",
       "4     Nathalie Arthaud    Interview sur la situation en #Ukraine #ukraine   \n",
       "...                ...                                                ...   \n",
       "1149      Éric Zemmour                         Bienvenue @marionmarechal_   \n",
       "1150      Éric Zemmour  Marion, tu es une Française libre, tu te bats ...   \n",
       "1151      Éric Zemmour  Merci aux commerçants qui font vivre nos march...   \n",
       "1152      Éric Zemmour             L’apéro, un art de vivre français ! 🇫🇷   \n",
       "1153      Éric Zemmour  Ce matin, au mémorial Notre-Dame-du-Cap-Falcon...   \n",
       "\n",
       "      like_count  comment_count                 created_at  \n",
       "0            203             14  2022-03-05 12:33:26+00:00  \n",
       "1            154             16  2022-03-04 09:36:47+00:00  \n",
       "2             94             38  2022-03-03 15:03:22+00:00  \n",
       "3            243             16  2022-03-02 09:14:58+00:00  \n",
       "4            106              8  2022-02-28 22:07:01+00:00  \n",
       "...          ...            ...                        ...  \n",
       "1149       22713            751  2022-03-06 20:33:39+00:00  \n",
       "1150       31438            770  2022-03-06 19:22:22+00:00  \n",
       "1151       10289            117  2022-03-06 16:48:38+00:00  \n",
       "1152       10408            117  2022-03-06 16:46:57+00:00  \n",
       "1153       16411            281  2022-03-06 16:43:33+00:00  \n",
       "\n",
       "[1154 rows x 5 columns]"
      ]
     },
     "execution_count": 3,
     "metadata": {},
     "output_type": "execute_result"
    }
   ],
   "source": [
    "instagram = pd.read_csv(\"instagram.csv\", sep = \";\")\n",
    "instagram"
   ]
  },
  {
   "cell_type": "code",
   "execution_count": 25,
   "id": "83dcfaee",
   "metadata": {},
   "outputs": [
    {
     "data": {
      "text/plain": [
       "False    1154\n",
       "dtype: int64"
      ]
     },
     "execution_count": 25,
     "metadata": {},
     "output_type": "execute_result"
    }
   ],
   "source": [
    "instagram.duplicated().value_counts()"
   ]
  },
  {
   "cell_type": "code",
   "execution_count": 23,
   "id": "af984cb0",
   "metadata": {},
   "outputs": [
    {
     "name": "stdout",
     "output_type": "stream",
     "text": [
      "<class 'pandas.core.frame.DataFrame'>\n",
      "RangeIndex: 1154 entries, 0 to 1153\n",
      "Data columns (total 5 columns):\n",
      " #   Column         Non-Null Count  Dtype \n",
      "---  ------         --------------  ----- \n",
      " 0   id             1154 non-null   object\n",
      " 1   description    1121 non-null   object\n",
      " 2   like_count     1154 non-null   int64 \n",
      " 3   comment_count  1154 non-null   int64 \n",
      " 4   created_at     1154 non-null   object\n",
      "dtypes: int64(2), object(3)\n",
      "memory usage: 45.2+ KB\n"
     ]
    }
   ],
   "source": [
    "instagram.info()"
   ]
  },
  {
   "cell_type": "code",
   "execution_count": 24,
   "id": "27fc04a7",
   "metadata": {},
   "outputs": [
    {
     "data": {
      "text/html": [
       "<div>\n",
       "<style scoped>\n",
       "    .dataframe tbody tr th:only-of-type {\n",
       "        vertical-align: middle;\n",
       "    }\n",
       "\n",
       "    .dataframe tbody tr th {\n",
       "        vertical-align: top;\n",
       "    }\n",
       "\n",
       "    .dataframe thead th {\n",
       "        text-align: right;\n",
       "    }\n",
       "</style>\n",
       "<table border=\"1\" class=\"dataframe\">\n",
       "  <thead>\n",
       "    <tr style=\"text-align: right;\">\n",
       "      <th></th>\n",
       "      <th>id</th>\n",
       "      <th>created_at</th>\n",
       "      <th>description</th>\n",
       "      <th>like_count</th>\n",
       "      <th>comment_count</th>\n",
       "    </tr>\n",
       "  </thead>\n",
       "  <tbody>\n",
       "    <tr>\n",
       "      <th>0</th>\n",
       "      <td>Nathalie Arthaud</td>\n",
       "      <td>2022-03-06T08:29:25Z</td>\n",
       "      <td>Mon site de campagne : https://www.nathalie-ar...</td>\n",
       "      <td>24</td>\n",
       "      <td>2</td>\n",
       "    </tr>\n",
       "    <tr>\n",
       "      <th>1</th>\n",
       "      <td>Nathalie Arthaud</td>\n",
       "      <td>2022-03-05T07:11:41Z</td>\n",
       "      <td>Mon site de campagne : https://www.nathalie-ar...</td>\n",
       "      <td>86</td>\n",
       "      <td>34</td>\n",
       "    </tr>\n",
       "    <tr>\n",
       "      <th>2</th>\n",
       "      <td>Nathalie Arthaud</td>\n",
       "      <td>2022-03-03T08:31:03Z</td>\n",
       "      <td>Mon site de campagne : https://www.nathalie-ar...</td>\n",
       "      <td>141</td>\n",
       "      <td>25</td>\n",
       "    </tr>\n",
       "    <tr>\n",
       "      <th>3</th>\n",
       "      <td>Nathalie Arthaud</td>\n",
       "      <td>2022-02-28T15:13:52Z</td>\n",
       "      <td>Mon site de campagne : https://www.nathalie-ar...</td>\n",
       "      <td>101</td>\n",
       "      <td>28</td>\n",
       "    </tr>\n",
       "    <tr>\n",
       "      <th>4</th>\n",
       "      <td>Nathalie Arthaud</td>\n",
       "      <td>2022-02-27T17:55:26Z</td>\n",
       "      <td>Mon site de campagne : https://www.nathalie-ar...</td>\n",
       "      <td>58</td>\n",
       "      <td>12</td>\n",
       "    </tr>\n",
       "    <tr>\n",
       "      <th>...</th>\n",
       "      <td>...</td>\n",
       "      <td>...</td>\n",
       "      <td>...</td>\n",
       "      <td>...</td>\n",
       "      <td>...</td>\n",
       "    </tr>\n",
       "    <tr>\n",
       "      <th>430</th>\n",
       "      <td>Valérie Pécresse</td>\n",
       "      <td>2022-03-10T12:00:09Z</td>\n",
       "      <td>Pour suivre chaque jour l’action de Valérie Pé...</td>\n",
       "      <td>12</td>\n",
       "      <td>0</td>\n",
       "    </tr>\n",
       "    <tr>\n",
       "      <th>431</th>\n",
       "      <td>Valérie Pécresse</td>\n",
       "      <td>2022-03-09T10:53:13Z</td>\n",
       "      <td>Valérie Pécresse était l'invitée d'Apolline de...</td>\n",
       "      <td>73</td>\n",
       "      <td>0</td>\n",
       "    </tr>\n",
       "    <tr>\n",
       "      <th>432</th>\n",
       "      <td>Valérie Pécresse</td>\n",
       "      <td>2022-03-08T08:16:21Z</td>\n",
       "      <td>Lundi 7 mars, dans « Face aux Françaises », Va...</td>\n",
       "      <td>45</td>\n",
       "      <td>0</td>\n",
       "    </tr>\n",
       "    <tr>\n",
       "      <th>433</th>\n",
       "      <td>Éric Zemmour</td>\n",
       "      <td>2022-03-09T17:11:27Z</td>\n",
       "      <td>Voici mon message pour les femmes françaises. ...</td>\n",
       "      <td>11028</td>\n",
       "      <td>2595</td>\n",
       "    </tr>\n",
       "    <tr>\n",
       "      <th>434</th>\n",
       "      <td>Éric Zemmour</td>\n",
       "      <td>2022-03-08T08:28:54Z</td>\n",
       "      <td>Voici les meilleurs moments de mon discours à ...</td>\n",
       "      <td>6146</td>\n",
       "      <td>1326</td>\n",
       "    </tr>\n",
       "  </tbody>\n",
       "</table>\n",
       "<p>435 rows × 5 columns</p>\n",
       "</div>"
      ],
      "text/plain": [
       "                   id            created_at  \\\n",
       "0    Nathalie Arthaud  2022-03-06T08:29:25Z   \n",
       "1    Nathalie Arthaud  2022-03-05T07:11:41Z   \n",
       "2    Nathalie Arthaud  2022-03-03T08:31:03Z   \n",
       "3    Nathalie Arthaud  2022-02-28T15:13:52Z   \n",
       "4    Nathalie Arthaud  2022-02-27T17:55:26Z   \n",
       "..                ...                   ...   \n",
       "430  Valérie Pécresse  2022-03-10T12:00:09Z   \n",
       "431  Valérie Pécresse  2022-03-09T10:53:13Z   \n",
       "432  Valérie Pécresse  2022-03-08T08:16:21Z   \n",
       "433      Éric Zemmour  2022-03-09T17:11:27Z   \n",
       "434      Éric Zemmour  2022-03-08T08:28:54Z   \n",
       "\n",
       "                                           description  like_count  \\\n",
       "0    Mon site de campagne : https://www.nathalie-ar...          24   \n",
       "1    Mon site de campagne : https://www.nathalie-ar...          86   \n",
       "2    Mon site de campagne : https://www.nathalie-ar...         141   \n",
       "3    Mon site de campagne : https://www.nathalie-ar...         101   \n",
       "4    Mon site de campagne : https://www.nathalie-ar...          58   \n",
       "..                                                 ...         ...   \n",
       "430  Pour suivre chaque jour l’action de Valérie Pé...          12   \n",
       "431  Valérie Pécresse était l'invitée d'Apolline de...          73   \n",
       "432  Lundi 7 mars, dans « Face aux Françaises », Va...          45   \n",
       "433  Voici mon message pour les femmes françaises. ...       11028   \n",
       "434  Voici les meilleurs moments de mon discours à ...        6146   \n",
       "\n",
       "     comment_count  \n",
       "0                2  \n",
       "1               34  \n",
       "2               25  \n",
       "3               28  \n",
       "4               12  \n",
       "..             ...  \n",
       "430              0  \n",
       "431              0  \n",
       "432              0  \n",
       "433           2595  \n",
       "434           1326  \n",
       "\n",
       "[435 rows x 5 columns]"
      ]
     },
     "execution_count": 24,
     "metadata": {},
     "output_type": "execute_result"
    }
   ],
   "source": [
    "youtube = pd.read_csv(\"youtube.csv\", sep = \";\")\n",
    "youtube"
   ]
  },
  {
   "cell_type": "code",
   "execution_count": 26,
   "id": "50780faf",
   "metadata": {},
   "outputs": [
    {
     "data": {
      "text/plain": [
       "False    435\n",
       "dtype: int64"
      ]
     },
     "execution_count": 26,
     "metadata": {},
     "output_type": "execute_result"
    }
   ],
   "source": [
    "youtube.duplicated().value_counts()"
   ]
  },
  {
   "cell_type": "code",
   "execution_count": 27,
   "id": "c3c9b27d",
   "metadata": {},
   "outputs": [
    {
     "name": "stdout",
     "output_type": "stream",
     "text": [
      "<class 'pandas.core.frame.DataFrame'>\n",
      "RangeIndex: 435 entries, 0 to 434\n",
      "Data columns (total 5 columns):\n",
      " #   Column         Non-Null Count  Dtype \n",
      "---  ------         --------------  ----- \n",
      " 0   id             435 non-null    object\n",
      " 1   created_at     435 non-null    object\n",
      " 2   description    423 non-null    object\n",
      " 3   like_count     435 non-null    int64 \n",
      " 4   comment_count  435 non-null    int64 \n",
      "dtypes: int64(2), object(3)\n",
      "memory usage: 17.1+ KB\n"
     ]
    }
   ],
   "source": [
    "youtube.info()"
   ]
  },
  {
   "cell_type": "markdown",
   "id": "cbc1f123",
   "metadata": {},
   "source": [
    "# Count data per social network per Candidate"
   ]
  },
  {
   "cell_type": "code",
   "execution_count": 66,
   "id": "7df36654",
   "metadata": {},
   "outputs": [
    {
     "data": {
      "text/plain": [
       "id\n",
       "Éric Zemmour             5111052\n",
       "Emmanuel Macron          1675413\n",
       "Jean-Luc Mélenchon       1171937\n",
       "Marine Le Pen             733557\n",
       "Nicolas Dupont-Aignan     547570\n",
       "Fabien Roussel            520229\n",
       "Philippe Poutou           399628\n",
       "Yannick Jadot             207689\n",
       "Valérie Pécresse          182579\n",
       "Jean Lassalle             140066\n",
       "Anne Hidalgo              120850\n",
       "Nathalie Arthaud           60215\n",
       "Name: favorite_count, dtype: int64"
      ]
     },
     "execution_count": 66,
     "metadata": {},
     "output_type": "execute_result"
    }
   ],
   "source": [
    "twitterlikes = twitter.groupby(\"id\").sum().sort_values(by=[\"favorite_count\"],ascending=False)[\"favorite_count\"]\n",
    "twitterlikes"
   ]
  },
  {
   "cell_type": "code",
   "execution_count": 67,
   "id": "91f53c8d",
   "metadata": {},
   "outputs": [
    {
     "data": {
      "text/plain": [
       "id\n",
       "Éric Zemmour             929213\n",
       "Jean-Luc Mélenchon       440163\n",
       "Nicolas Dupont-Aignan     74209\n",
       "Jean Lassalle             20431\n",
       "Emmanuel Macron           20069\n",
       "Marine Le Pen             18130\n",
       "Valérie Pécresse           3510\n",
       "Yannick Jadot              2862\n",
       "Nathalie Arthaud           2324\n",
       "Anne Hidalgo                504\n",
       "Name: like_count, dtype: int64"
      ]
     },
     "execution_count": 67,
     "metadata": {},
     "output_type": "execute_result"
    }
   ],
   "source": [
    "youtubelikes = youtube.groupby(\"id\").sum().sort_values(by=[\"like_count\"],ascending=False)[\"like_count\"]\n",
    "youtubelikes"
   ]
  },
  {
   "cell_type": "code",
   "execution_count": 68,
   "id": "f6d4ed64",
   "metadata": {},
   "outputs": [
    {
     "data": {
      "text/plain": [
       "id\n",
       "Éric Zemmour             3438666\n",
       "Emmanuel Macron          1845294\n",
       "Jean-Luc Mélenchon        575789\n",
       "Marine Le Pen             305445\n",
       "Jean Lassalle             152122\n",
       "Yannick Jadot             133056\n",
       "Valérie Pécresse           90674\n",
       "Philippe Poutou            46564\n",
       "Anne Hidalgo               35712\n",
       "Nicolas Dupont-Aignan      35631\n",
       "Fabien Roussel             27958\n",
       "Nathalie Arthaud            8964\n",
       "Name: like_count, dtype: int64"
      ]
     },
     "execution_count": 68,
     "metadata": {},
     "output_type": "execute_result"
    }
   ],
   "source": [
    "instalikes = instagram.groupby(\"id\").sum().sort_values(by=[\"like_count\"],ascending=False)[\"like_count\"]\n",
    "instalikes"
   ]
  },
  {
   "cell_type": "code",
   "execution_count": 72,
   "id": "858616bf",
   "metadata": {},
   "outputs": [
    {
     "data": {
      "text/plain": [
       "<AxesSubplot:xlabel='id'>"
      ]
     },
     "execution_count": 72,
     "metadata": {},
     "output_type": "execute_result"
    },
    {
     "data": {
      "image/png": "[encoded data removed]",
      "text/plain": [
       "<Figure size 432x288 with 1 Axes>"
      ]
     },
     "metadata": {
      "needs_background": "light"
     },
     "output_type": "display_data"
    }
   ],
   "source": [
    "totallikes = pd.DataFrame({ \"youtube\":youtubelikes, \"instagram\":instalikes, \"twitter\":twitterlikes})\n",
    "totallikes.plot.bar()"
   ]
  },
  {
   "cell_type": "code",
   "execution_count": 32,
   "id": "4f00ab8e",
   "metadata": {},
   "outputs": [
    {
     "data": {
      "text/plain": [
       "id\n",
       "Éric Zemmour             312\n",
       "Yannick Jadot            170\n",
       "Jean-Luc Mélenchon       145\n",
       "Nicolas Dupont-Aignan    109\n",
       "Nathalie Arthaud          86\n",
       "Jean Lassalle             70\n",
       "Marine Le Pen             54\n",
       "Valérie Pécresse          48\n",
       "Anne Hidalgo              36\n",
       "Fabien Roussel            36\n",
       "Philippe Poutou           32\n",
       "Emmanuel Macron           23\n",
       "Name: description, dtype: int64"
      ]
     },
     "execution_count": 32,
     "metadata": {},
     "output_type": "execute_result"
    }
   ],
   "source": [
    "insta_count = instagram.groupby(\"id\").count()[\"description\"].sort_values(ascending=False)\n",
    "insta_count"
   ]
  },
  {
   "cell_type": "code",
   "execution_count": 57,
   "id": "90301287",
   "metadata": {},
   "outputs": [
    {
     "data": {
      "text/plain": [
       "<AxesSubplot:ylabel='id'>"
      ]
     },
     "execution_count": 57,
     "metadata": {},
     "output_type": "execute_result"
    },
    {
     "data": {
      "image/png": "[encoded data removed]",
      "text/plain": [
       "<Figure size 432x288 with 1 Axes>"
      ]
     },
     "metadata": {
      "needs_background": "light"
     },
     "output_type": "display_data"
    }
   ],
   "source": [
    "insta_count.plot.barh()"
   ]
  },
  {
   "cell_type": "code",
   "execution_count": 33,
   "id": "850351b8",
   "metadata": {},
   "outputs": [
    {
     "data": {
      "text/plain": [
       "id\n",
       "Yannick Jadot            56\n",
       "Nicolas Dupont-Aignan    54\n",
       "Jean-Luc Mélenchon       53\n",
       "Nathalie Arthaud         53\n",
       "Valérie Pécresse         53\n",
       "Éric Zemmour             52\n",
       "Marine Le Pen            42\n",
       "Anne Hidalgo             34\n",
       "Jean Lassalle            18\n",
       "Emmanuel Macron           8\n",
       "Name: description, dtype: int64"
      ]
     },
     "execution_count": 33,
     "metadata": {},
     "output_type": "execute_result"
    }
   ],
   "source": [
    "youtube_count = youtube.groupby(\"id\").count()[\"description\"].sort_values(ascending=False)\n",
    "youtube_count"
   ]
  },
  {
   "cell_type": "code",
   "execution_count": 56,
   "id": "6ca9ccd8",
   "metadata": {},
   "outputs": [
    {
     "data": {
      "text/plain": [
       "<AxesSubplot:ylabel='id'>"
      ]
     },
     "execution_count": 56,
     "metadata": {},
     "output_type": "execute_result"
    },
    {
     "data": {
      "image/png": "[encoded data removed]",
      "text/plain": [
       "<Figure size 432x288 with 1 Axes>"
      ]
     },
     "metadata": {
      "needs_background": "light"
     },
     "output_type": "display_data"
    }
   ],
   "source": [
    "youtube_count.plot.barh()"
   ]
  },
  {
   "cell_type": "code",
   "execution_count": 34,
   "id": "09c45285",
   "metadata": {},
   "outputs": [
    {
     "data": {
      "text/plain": [
       "id\n",
       "Éric Zemmour             1647\n",
       "Jean-Luc Mélenchon       1326\n",
       "Marine Le Pen             948\n",
       "Yannick Jadot             918\n",
       "Nicolas Dupont-Aignan     781\n",
       "Fabien Roussel            667\n",
       "Anne Hidalgo              577\n",
       "Valérie Pécresse          397\n",
       "Emmanuel Macron           241\n",
       "Philippe Poutou           162\n",
       "Jean Lassalle             147\n",
       "Nathalie Arthaud          130\n",
       "Name: text, dtype: int64"
      ]
     },
     "execution_count": 34,
     "metadata": {},
     "output_type": "execute_result"
    }
   ],
   "source": [
    "twitter_count = twitter.groupby(\"id\").count()[\"text\"].sort_values(ascending=False)\n",
    "twitter_count"
   ]
  },
  {
   "cell_type": "code",
   "execution_count": 55,
   "id": "e5d5d5e4",
   "metadata": {},
   "outputs": [
    {
     "data": {
      "text/plain": [
       "<AxesSubplot:ylabel='id'>"
      ]
     },
     "execution_count": 55,
     "metadata": {},
     "output_type": "execute_result"
    },
    {
     "data": {
      "image/png": "[encoded data removed]",
      "text/plain": [
       "<Figure size 432x288 with 1 Axes>"
      ]
     },
     "metadata": {
      "needs_background": "light"
     },
     "output_type": "display_data"
    }
   ],
   "source": [
    "twitter_count.plot.barh()"
   ]
  },
  {
   "cell_type": "code",
   "execution_count": 74,
   "id": "78944e47",
   "metadata": {},
   "outputs": [],
   "source": [
    "twitter_count.to_csv('webapp/sources/data/twitter_count_to_03_10_2022.csv')\n",
    "youtube_count.to_csv('webapp/sources/data/youtube_count_to_03_10_2022.csv')\n",
    "insta_count.to_csv('webapp/sources/data/insta_count_to_03_10_2022.csv')\n",
    "totallikes.to_csv('webapp/sources/data/totallikes_to_03_10_2022.csv')"
   ]
  },
  {
   "cell_type": "code",
   "execution_count": null,
   "id": "99b09fec",
   "metadata": {},
   "outputs": [],
   "source": []
  }
 ],
 "metadata": {
  "kernelspec": {
   "display_name": "Python 3 (ipykernel)",
   "language": "python",
   "name": "python3"
  },
  "language_info": {
   "codemirror_mode": {
    "name": "ipython",
    "version": 3
   },
   "file_extension": ".py",
   "mimetype": "text/x-python",
   "name": "python",
   "nbconvert_exporter": "python",
   "pygments_lexer": "ipython3",
   "version": "3.9.7"
  }
 },
 "nbformat": 4,
 "nbformat_minor": 5
}
